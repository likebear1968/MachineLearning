{
 "cells": [
  {
   "cell_type": "code",
   "execution_count": null,
   "metadata": {},
   "outputs": [],
   "source": [
    "import numpy as np"
   ]
  },
  {
   "cell_type": "code",
   "execution_count": null,
   "metadata": {},
   "outputs": [],
   "source": [
    "def to_dummy(data, idx, vals):\n",
    "    '''\n",
    "    区分値コードをダミー変数に変換する。\n",
    "    data：データ行列\n",
    "    idx：対象列ID\n",
    "    vals：区分値リスト\n",
    "    戻り値：ダミー変数化した行列\n",
    "    '''\n",
    "    dummies = np.zeros((data.shape[0], len(vals)+1), dtype=int)\n",
    "    column = data[:, idx].astype(str)\n",
    "    for i, v in enumerate(column):\n",
    "        if v == 'nan':\n",
    "            dummies[i, -1] = 1\n",
    "        else:\n",
    "            #if v.replace('.', '').replace('-', '').isdigit(): v = str(int(float(v)))\n",
    "            if v not in vals:\n",
    "                print(f'{v}は区分値リストに存在しません。')\n",
    "            else:\n",
    "                dummies[i, vals.index(v)] = 1\n",
    "    return dummies"
   ]
  },
  {
   "cell_type": "code",
   "execution_count": null,
   "metadata": {},
   "outputs": [],
   "source": [
    "def scaling(data, idx):\n",
    "    '''\n",
    "    標準化(平均0、分散1)した列データを取得する。\n",
    "    data：データ行列\n",
    "    idx：対象列IDリスト\n",
    "    戻り値：標準化した列データ\n",
    "    '''\n",
    "    ndat = data[:, idx].astype(float)\n",
    "    ndat -= np.nanmean(ndat, axis=0)\n",
    "    ndat /= np.nanstd(ndat, axis=0)\n",
    "    return ndat"
   ]
  },
  {
   "cell_type": "code",
   "execution_count": null,
   "metadata": {},
   "outputs": [],
   "source": [
    "def imputing(data, idx, strategy=0):\n",
    "    '''\n",
    "    欠損値を補完する。\n",
    "    data：データ行列\n",
    "    idx：対象列IDリスト\n",
    "    strategy：補完する値の種類[0：平均値、1：中央値]※初期値は0\n",
    "    戻り値：欠損値を補完した行列\n",
    "    '''\n",
    "    ndat = data[:, idx].astype(float)\n",
    "    vals = np.zeros(data.shape[1])\n",
    "    if strategy == 0:\n",
    "        vals = np.nanmean(ndat, axis=0)   # 平均値\n",
    "    elif strategy == 1:\n",
    "        vals = np.nanmedian(ndat, axis=0) # 中央値\n",
    "    for i in range(len(idx)):\n",
    "        ndat[:, i][np.isnan(ndat[:, i])] = vals[i]\n",
    "    return ndat"
   ]
  },
  {
   "cell_type": "code",
   "execution_count": null,
   "metadata": {},
   "outputs": [],
   "source": [
    "def describe(data, idx):\n",
    "    '''\n",
    "    統計情報を取得する。\n",
    "    data：データ行列\n",
    "    idx：対象列IDリスト\n",
    "    戻り値：nan以外のデータ件数\n",
    "    　　　　nanのデータ件数\n",
    "    　　　　最小値\n",
    "        　　最大値\n",
    "          　平均値\n",
    "        　　中央値\n",
    "          　標準偏差\n",
    "        　　下限値(25%タイル - IQR)\n",
    "          　上限値(75%タイル + IQR)\n",
    "    '''\n",
    "    ndat = data[:, idx].astype(float)\n",
    "    stat = np.zeros((9, len(idx)))\n",
    "    nans = np.count_nonzero(np.isnan(ndat), axis=0)\n",
    "    stat[0][...] = ndat.shape[0] - nans                      # nan以外のデータ件数\n",
    "    stat[1][...] = nans                                      # nanのデータ件数\n",
    "    stat[2][...] = np.nanmin(ndat, axis=0)                   # 最小値\n",
    "    stat[3][...] = np.nanmax(ndat, axis=0)                   # 最大値\n",
    "    stat[4][...] = np.nanmean(ndat, axis=0)                  # 平均値\n",
    "    stat[5][...] = np.nanmedian(ndat, axis=0)                # 中央値\n",
    "    stat[6][...] = np.nanstd(ndat, axis=0)                   # 標準偏差\n",
    "    q25, q75 = np.nanpercentile(ndat, q=[25, 75], axis=0)\n",
    "    iqr = (q75 - q25) * 1.5\n",
    "    stat[7][...] = q25 - iqr                                 # 下限値\n",
    "    stat[8][...] = q75 + iqr                                 # 上限値\n",
    "    return stat"
   ]
  },
  {
   "cell_type": "code",
   "execution_count": null,
   "metadata": {},
   "outputs": [],
   "source": [
    "def unique(data, idx):\n",
    "    '''\n",
    "    項目件数を取得する。\n",
    "    data：データ行列\n",
    "    idx：対象列IDリスト\n",
    "    戻り値：項目件数\n",
    "    '''\n",
    "    uq = []\n",
    "    for i in idx:\n",
    "        items, counts = np.unique(data[:, i], return_counts=True)\n",
    "        uq.append([[v, c] for v, c in zip(items, counts)])\n",
    "    return uq"
   ]
  }
 ],
 "metadata": {
  "kernelspec": {
   "display_name": "Python 3",
   "language": "python",
   "name": "python3"
  },
  "language_info": {
   "codemirror_mode": {
    "name": "ipython",
    "version": 3
   },
   "file_extension": ".py",
   "mimetype": "text/x-python",
   "name": "python",
   "nbconvert_exporter": "python",
   "pygments_lexer": "ipython3",
   "version": "3.7.3"
  }
 },
 "nbformat": 4,
 "nbformat_minor": 2
}
