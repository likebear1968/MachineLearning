{
 "cells": [
  {
   "cell_type": "code",
   "execution_count": 2,
   "metadata": {},
   "outputs": [],
   "source": [
    "import numpy as np"
   ]
  },
  {
   "cell_type": "code",
   "execution_count": 3,
   "metadata": {
    "scrolled": false
   },
   "outputs": [],
   "source": [
    "import PreProcess as pp\n",
    "# ボストンハウジングデータの読込み\n",
    "\n",
    "data = np.loadtxt('./housing.data', dtype=str)\n",
    "\n",
    "x = pp.scaling(data, [0,1,2,4,5,6,7,9,10,11,12])\n",
    "x = np.hstack((x, pp.to_dummy(data, 3, ['0','1'])))\n",
    "x = np.hstack((x, pp.to_dummy(data, 8, ['1','2','3','4','5','6','7','8','24'])))\n",
    "y = data[:, -1].astype(float)"
   ]
  },
  {
   "cell_type": "code",
   "execution_count": 4,
   "metadata": {},
   "outputs": [],
   "source": [
    "from sklearn.model_selection import ShuffleSplit\n",
    "\n",
    "ss = ShuffleSplit(n_splits=2, train_size=0.7, random_state=0)\n",
    "train_idx, test_idx = ss.split(x, y)\n",
    "x_train, x_test, y_train, y_test = x[train_idx[0]], x[train_idx[1]], y[train_idx[0]], y[train_idx[1]]"
   ]
  },
  {
   "cell_type": "code",
   "execution_count": 5,
   "metadata": {},
   "outputs": [],
   "source": [
    "from sklearn.linear_model import LinearRegression\n",
    "from sklearn.linear_model import Ridge\n",
    "from sklearn.linear_model import Lasso\n",
    "from sklearn.linear_model import SGDRegressor\n",
    "from sklearn.svm import SVR\n",
    "from sklearn.ensemble import BaggingRegressor\n",
    "from sklearn import tree\n",
    "\n",
    "estimators = [\n",
    "    ('LNR', LinearRegression()),\n",
    "    ('RDG', Ridge()),\n",
    "    ('LAS', Lasso()),\n",
    "    ('SVR', SVR(kernel='linear')),\n",
    "    ('RBF', SVR(kernel='rbf')),\n",
    "    ('BAG', BaggingRegressor(tree.DecisionTreeRegressor())),\n",
    "    ('SGD', SGDRegressor(max_iter=1000))\n",
    "]"
   ]
  },
  {
   "cell_type": "code",
   "execution_count": 6,
   "metadata": {},
   "outputs": [],
   "source": [
    "grid_params = {\n",
    "    'LNR':{},\n",
    "    'RDG':{},\n",
    "    'LAS':{},\n",
    "    'SVR':{},\n",
    "    'RBF':{},\n",
    "    'BAG':{},\n",
    "    'SGD':{}\n",
    "}"
   ]
  },
  {
   "cell_type": "code",
   "execution_count": 7,
   "metadata": {},
   "outputs": [
    {
     "name": "stdout",
     "output_type": "stream",
     "text": [
      "('LNR', 'train_mse') 19.216310128285837\n",
      "('LNR', 'train_r2') 0.7732977003979536\n",
      "('LNR', 'test_mse') 26.730412397209232\n",
      "('LNR', 'test_r2') 0.6789737421956811\n",
      "('RDG', 'train_mse') 19.224104626445573\n",
      "('RDG', 'train_r2') 0.773205745665476\n",
      "('RDG', 'test_mse') 26.850127544828418\n",
      "('RDG', 'test_r2') 0.6775359901224399\n",
      "('LAS', 'train_mse') 26.041379268714255\n",
      "('LAS', 'train_r2') 0.69277969986878\n",
      "('LAS', 'test_mse') 33.40658128772811\n",
      "('LAS', 'test_r2') 0.5987944511490286\n",
      "('SVR', 'train_mse') 21.85746604517524\n",
      "('SVR', 'train_r2') 0.7421389547298647\n",
      "('SVR', 'test_mse') 31.5747497261627\n",
      "('SVR', 'test_r2') 0.6207943373609818\n",
      "('RBF', 'train_mse') 23.160071102661714\n",
      "('RBF', 'train_r2') 0.7267716152128593\n",
      "('RBF', 'test_mse') 33.30782452894624\n",
      "('RBF', 'test_r2') 0.5999804976728726\n",
      "('BAG', 'train_mse') 2.040625141242939\n",
      "('BAG', 'train_r2') 0.9759259499322624\n",
      "('BAG', 'test_mse') 14.160733552631577\n",
      "('BAG', 'test_r2') 0.8299327659965324\n",
      "('SGD', 'train_mse') 19.288463241546452\n",
      "('SGD', 'train_r2') 0.7724464820011632\n",
      "('SGD', 'test_mse') 27.33951096024986\n",
      "('SGD', 'test_r2') 0.6716586050619444\n"
     ]
    },
    {
     "name": "stderr",
     "output_type": "stream",
     "text": [
      "C:\\Users\\ma-inada\\AppData\\Local\\Continuum\\anaconda3\\lib\\site-packages\\sklearn\\svm\\base.py:193: FutureWarning: The default value of gamma will change from 'auto' to 'scale' in version 0.22 to account better for unscaled features. Set gamma explicitly to 'auto' or 'scale' to avoid this warning.\n",
      "  \"avoid this warning.\", FutureWarning)\n"
     ]
    }
   ],
   "source": [
    "from sklearn.model_selection import GridSearchCV\n",
    "from sklearn.metrics import mean_squared_error\n",
    "from sklearn.metrics import r2_score\n",
    "import MLUtils as ut\n",
    "\n",
    "scaler = None#ut.scaler(0)\n",
    "reductor = None#ut.reductor(0)\n",
    "\n",
    "scores = {}\n",
    "for name, pipeline in ut.create_pipelines(estimators, scaler, reductor).items():\n",
    "    #学習\n",
    "    est = GridSearchCV(pipeline, ut.get_params(pipeline, grid_params[name]), cv=3, scoring='r2', return_train_score=False, n_jobs=-1)\n",
    "    est.fit(x_train, y_train)\n",
    "    #スコア（訓練）\n",
    "    train_pred = est.predict(x_train)\n",
    "    scores[(name, 'train_mse')] = mean_squared_error(y_train, train_pred)\n",
    "    scores[(name, 'train_r2')] = r2_score(y_train, train_pred)\n",
    "    #スコア（テスト）\n",
    "    test_pred = est.predict(x_test)\n",
    "    scores[(name, 'test_mse')] = mean_squared_error(y_test, test_pred)\n",
    "    scores[(name, 'test_r2')] = r2_score(y_test, test_pred)\n",
    "\n",
    "#スコア表示\n",
    "for k, v in scores.items():\n",
    "    print(k, v)"
   ]
  },
  {
   "cell_type": "code",
   "execution_count": 21,
   "metadata": {},
   "outputs": [
    {
     "name": "stdout",
     "output_type": "stream",
     "text": [
      "0.7732977003979536\n",
      "19.216310128285837\n",
      "3.02984091559643\n"
     ]
    }
   ],
   "source": [
    "from sklearn.metrics import mean_absolute_error\n",
    "a = LinearRegression()\n",
    "a.fit(x_train, y_train)\n",
    "pred = a.predict(x_train)\n",
    "print(r2_score(y_train, pred))\n",
    "print(mean_squared_error(y_train, pred))\n",
    "print(mean_absolute_error(y_train, pred))"
   ]
  },
  {
   "cell_type": "code",
   "execution_count": 24,
   "metadata": {},
   "outputs": [
    {
     "name": "stdout",
     "output_type": "stream",
     "text": [
      "0.7732977003979536\n",
      "19.216310128285837\n",
      "3.02984091559643\n"
     ]
    }
   ],
   "source": [
    "import Evaluation as ev\n",
    "print(ev.R2(y_train, pred))\n",
    "print(ev.MSE(y_train, pred))\n",
    "print(ev.MAE(y_train, pred))"
   ]
  }
 ],
 "metadata": {
  "kernelspec": {
   "display_name": "Python 3",
   "language": "python",
   "name": "python3"
  },
  "language_info": {
   "codemirror_mode": {
    "name": "ipython",
    "version": 3
   },
   "file_extension": ".py",
   "mimetype": "text/x-python",
   "name": "python",
   "nbconvert_exporter": "python",
   "pygments_lexer": "ipython3",
   "version": "3.7.3"
  }
 },
 "nbformat": 4,
 "nbformat_minor": 2
}
