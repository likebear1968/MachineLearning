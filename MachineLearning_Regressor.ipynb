{
 "cells": [
  {
   "cell_type": "code",
   "execution_count": null,
   "metadata": {
    "scrolled": false
   },
   "outputs": [],
   "source": [
    "import PreProcess as pp\n",
    "# ボストンハウジングデータの読込み\n",
    "\n",
    "data = np.loadtxt('./housing.data', dtype=str)\n",
    "\n",
    "x = pp.scaling(data, [0,1,2,4,5,6,7,9,10,11,12])\n",
    "x = np.hstack((x, pp.to_dummy(data, 3, ['0','1'])))\n",
    "x = np.hstack((x, pp.to_dummy(data, 8, ['1','2','3','4','5','6','7','8','24'])))\n",
    "y = data[:, -1].astype(float)"
   ]
  },
  {
   "cell_type": "code",
   "execution_count": null,
   "metadata": {},
   "outputs": [],
   "source": [
    "from sklearn.model_selection import ShuffleSplit\n",
    "\n",
    "ss = ShuffleSplit(n_splits=2, train_size=0.7, random_state=0)\n",
    "train_idx, test_idx = ss.split(x, y)\n",
    "x_train, x_test, y_train, y_test = x[train_idx[0]], x[train_idx[1]], y[train_idx[0]], y[train_idx[1]]"
   ]
  },
  {
   "cell_type": "code",
   "execution_count": null,
   "metadata": {},
   "outputs": [],
   "source": [
    "from sklearn.linear_model import LinearRegression\n",
    "from sklearn.linear_model import Ridge\n",
    "from sklearn.linear_model import Lasso\n",
    "from sklearn.linear_model import SGDRegressor\n",
    "from sklearn.svm import SVR\n",
    "from sklearn.ensemble import BaggingRegressor\n",
    "from sklearn import tree\n",
    "\n",
    "estimators = [\n",
    "    ('LNR', LinearRegression()),\n",
    "    ('RDG', Ridge()),\n",
    "    ('LAS', Lasso()),\n",
    "    ('SVR', SVR(kernel='linear')),\n",
    "    ('RBF', SVR(kernel='rbf')),\n",
    "    ('BAG', BaggingRegressor(tree.DecisionTreeRegressor())),\n",
    "    ('SGD', SGDRegressor(max_iter=1000))\n",
    "]"
   ]
  },
  {
   "cell_type": "code",
   "execution_count": null,
   "metadata": {},
   "outputs": [],
   "source": [
    "grid_params = {\n",
    "    'LNR':{},\n",
    "    'RDG':{},\n",
    "    'LAS':{},\n",
    "    'SVR':{},\n",
    "    'RBF':{},\n",
    "    'BAG':{},\n",
    "    'SGD':{}\n",
    "}"
   ]
  },
  {
   "cell_type": "code",
   "execution_count": null,
   "metadata": {},
   "outputs": [],
   "source": [
    "import numpy as np\n",
    "from sklearn.model_selection import GridSearchCV\n",
    "from sklearn.metrics import mean_squared_error\n",
    "from sklearn.metrics import r2_score\n",
    "import MLUtils as ut\n",
    "\n",
    "scaler = ut.scaler(0)\n",
    "reductor = ut.reductor()\n",
    "\n",
    "scores = {}\n",
    "for name, pipeline in ut.create_pipelines(estimators, scaler, reductor).items():\n",
    "    #学習\n",
    "    est = GridSearchCV(pipeline, ut.get_params(pipeline, grid_params[name]), cv=3, scoring='r2', return_train_score=False, n_jobs=-1)\n",
    "    est.fit(x_train, y_train)\n",
    "    #スコア（訓練）\n",
    "    train_pred = est.predict(x_train)\n",
    "    scores[(name, 'train_mse')] = mean_squared_error(y_train, train_pred)\n",
    "    scores[(name, 'train_r2')] = r2_score(y_train, train_pred)\n",
    "    #スコア（テスト）\n",
    "    test_pred = est.predict(x_test)\n",
    "    scores[(name, 'test_mse')] = mean_squared_error(y_test, test_pred)\n",
    "    scores[(name, 'test_r2')] = r2_score(y_test, test_pred)\n",
    "\n",
    "#スコア表示\n",
    "for k, v in scores.items():\n",
    "    print(k, v)"
   ]
  }
 ],
 "metadata": {
  "kernelspec": {
   "display_name": "Python 3",
   "language": "python",
   "name": "python3"
  },
  "language_info": {
   "codemirror_mode": {
    "name": "ipython",
    "version": 3
   },
   "file_extension": ".py",
   "mimetype": "text/x-python",
   "name": "python",
   "nbconvert_exporter": "python",
   "pygments_lexer": "ipython3",
   "version": "3.7.3"
  }
 },
 "nbformat": 4,
 "nbformat_minor": 2
}
