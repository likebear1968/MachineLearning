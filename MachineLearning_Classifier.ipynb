{
 "cells": [
  {
   "cell_type": "code",
   "execution_count": null,
   "metadata": {},
   "outputs": [],
   "source": [
    "from sklearn.neighbors import KNeighborsClassifier\n",
    "from sklearn.linear_model import LogisticRegression\n",
    "from sklearn.svm import SVC, LinearSVC\n",
    "from sklearn.tree import DecisionTreeClassifier\n",
    "from sklearn.ensemble import RandomForestClassifier\n",
    "from sklearn.ensemble import GradientBoostingClassifier\n",
    "from sklearn.neural_network import MLPClassifier\n",
    "\n",
    "estimators = [\n",
    "    ('KNC', KNeighborsClassifier()),\n",
    "    ('LRG', LogisticRegression()),\n",
    "    ('SVC', SVC()),\n",
    "    ('LSV', LinearSVC()),\n",
    "    ('DTC', DecisionTreeClassifier()),\n",
    "    ('RFC', RandomForestClassifier()),\n",
    "    ('GBC', GradientBoostingClassifier()),\n",
    "    ('MLP', MLPClassifier())\n",
    "]"
   ]
  },
  {
   "cell_type": "code",
   "execution_count": null,
   "metadata": {},
   "outputs": [],
   "source": [
    "grid_params = {\n",
    "    'KNC':{},\n",
    "    'LRG':{'est__solver': ['lbfgs']},\n",
    "    'SVC':{},\n",
    "    'LSV':{},\n",
    "    'DTC':{},\n",
    "    'RFC':{'est__n_estimators': [100]},\n",
    "    'GBC':{},\n",
    "    'MLP':{'est__max_iter': [500]}\n",
    "}"
   ]
  },
  {
   "cell_type": "code",
   "execution_count": 1,
   "metadata": {},
   "outputs": [],
   "source": [
    "from sklearn.datasets import load_breast_cancer\n",
    "\n",
    "data = load_breast_cancer()\n",
    "x = data.data\n",
    "y = data.target"
   ]
  },
  {
   "cell_type": "code",
   "execution_count": 2,
   "metadata": {},
   "outputs": [],
   "source": [
    "from sklearn.model_selection import StratifiedShuffleSplit\n",
    "\n",
    "ss = StratifiedShuffleSplit(n_splits=2, train_size=0.7, random_state=0)\n",
    "train_idx, test_idx = ss.split(x, y)\n",
    "x_train, x_test, y_train, y_test = x[train_idx[0]], x[train_idx[1]], y[train_idx[0]], y[train_idx[1]]"
   ]
  },
  {
   "cell_type": "code",
   "execution_count": null,
   "metadata": {},
   "outputs": [],
   "source": [
    "import numpy as np\n",
    "from sklearn.model_selection import GridSearchCV\n",
    "from sklearn.metrics import accuracy_score\n",
    "from sklearn.metrics import confusion_matrix\n",
    "import MLUtils as ut\n",
    "\n",
    "scaler = ut.scaler(0)\n",
    "reductor = ut.reductor()\n",
    "\n",
    "scores = {}\n",
    "for name, pipeline in ut.create_pipelines(estimators, scaler, reductor).items():\n",
    "    #学習\n",
    "    est = GridSearchCV(pipeline, ut.get_params(pipeline, grid_params[name]), cv=3, scoring='f1', return_train_score=False, n_jobs=-1)\n",
    "    est.fit(x_train, y_train)\n",
    "    #スコア（訓練）\n",
    "    train_pred = est.predict(x_train)\n",
    "    scores[(name, 'train')] = accuracy_score(y_train, train_pred)\n",
    "    #スコア（テスト）\n",
    "    test_pred = est.predict(x_test)\n",
    "    scores[(name, 'test')] = accuracy_score(y_test, test_pred)\n",
    "    #混合行列の作成\n",
    "    scores[(name, 'train_matrix')] = confusion_matrix(np.array(y_train), train_pred).reshape(1, 4)[0].tolist()\n",
    "    scores[(name, 'test_matrix')] = confusion_matrix(np.array(y_test), test_pred).reshape(1, 4)[0].tolist()\n",
    "\n",
    "#スコア表示\n",
    "for k, v in scores.items():\n",
    "    print(k, v)"
   ]
  },
  {
   "cell_type": "code",
   "execution_count": 5,
   "metadata": {},
   "outputs": [
    {
     "name": "stdout",
     "output_type": "stream",
     "text": [
      "0.9447236180904522\n",
      "[[134  14]\n",
      " [  8 242]]\n"
     ]
    }
   ],
   "source": [
    "import numpy as np\n",
    "from sklearn.neighbors import KNeighborsClassifier\n",
    "from sklearn.metrics import accuracy_score\n",
    "from sklearn.metrics import confusion_matrix\n",
    "a = KNeighborsClassifier()\n",
    "a.fit(x_train, y_train)\n",
    "pred = a.predict(x_train)\n",
    "print(accuracy_score(y_train, pred))\n",
    "print(confusion_matrix(y_train, pred))"
   ]
  },
  {
   "cell_type": "code",
   "execution_count": 26,
   "metadata": {},
   "outputs": [
    {
     "name": "stdout",
     "output_type": "stream",
     "text": [
      "134\n",
      "14\n",
      "8\n",
      "242\n"
     ]
    }
   ],
   "source": [
    "print(len(np.where((y_train == False) & (pred == False))[0]))\n",
    "print(len(np.where((y_train == False) & (pred == True))[0]))\n",
    "print(len(np.where((y_train == True) & (pred == False))[0]))\n",
    "print(len(np.where((y_train == True) & (pred == True))[0]))"
   ]
  }
 ],
 "metadata": {
  "kernelspec": {
   "display_name": "Python 3",
   "language": "python",
   "name": "python3"
  },
  "language_info": {
   "codemirror_mode": {
    "name": "ipython",
    "version": 3
   },
   "file_extension": ".py",
   "mimetype": "text/x-python",
   "name": "python",
   "nbconvert_exporter": "python",
   "pygments_lexer": "ipython3",
   "version": "3.7.3"
  }
 },
 "nbformat": 4,
 "nbformat_minor": 2
}
