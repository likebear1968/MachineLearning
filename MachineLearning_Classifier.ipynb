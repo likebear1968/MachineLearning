{
 "cells": [
  {
   "cell_type": "code",
   "execution_count": null,
   "metadata": {},
   "outputs": [],
   "source": [
    "from sklearn.pipeline import Pipeline\n",
    "\n",
    "def create_pipelines(estimators, scaler=None, reductor=None):\n",
    "    '''\n",
    "    パイプラインを構築する。\n",
    "    estimators：モデルリスト\n",
    "    scaler：標準化オブジェクト\n",
    "    reductor：次元削減オブジェクト\n",
    "    戻り値：構築したパイプライン\n",
    "    '''\n",
    "    pipelines ={}\n",
    "    for est in estimators:\n",
    "        steps = []\n",
    "        if scaler is not None: steps.append(('scl', scaler))\n",
    "        if reductor is not None: steps.append(('rdt', reductor))\n",
    "        k, v = est\n",
    "        steps.append(('est', v))\n",
    "        pipelines[k] = Pipeline(steps)\n",
    "    return pipelines"
   ]
  },
  {
   "cell_type": "code",
   "execution_count": null,
   "metadata": {},
   "outputs": [],
   "source": [
    "def get_params(pipeline, upd={}):\n",
    "    '''\n",
    "    グリッドサーチ用のパラメータ群を取得する。\n",
    "    pipeline：対象パイプライン\n",
    "    upd：更新する個別パラメータ　※初期値は空の辞書\n",
    "    戻り値：グリッドサーチ用のパラメータ群\n",
    "    '''\n",
    "    params = {k: [v] for k, v in pipeline.get_params().items() if '__' in k}\n",
    "    for k, v in upd.items():\n",
    "        if k in params:\n",
    "            params[k] = v\n",
    "    return params"
   ]
  },
  {
   "cell_type": "code",
   "execution_count": null,
   "metadata": {},
   "outputs": [],
   "source": [
    "from sklearn.model_selection import GridSearchCV\n",
    "\n",
    "def grid_search(pipeline, params, cv=3, scoring='f1'):\n",
    "    '''\n",
    "    グリッドサーチオブジェクトを作成する。\n",
    "    pipeline：対象パイプライン\n",
    "    params：パラメータ群\n",
    "    cv：ホールディング数　※初期値は3\n",
    "    scoring：スコアリングタイプ　※初期値はf1\n",
    "    戻り値：グリッドサーチオブジェクト\n",
    "    '''\n",
    "    return GridSearchCV(pipeline, params, cv=cv, scoring=scoring, return_train_score=False, n_jobs=-1)"
   ]
  },
  {
   "cell_type": "code",
   "execution_count": null,
   "metadata": {},
   "outputs": [],
   "source": [
    "from sklearn.neighbors import KNeighborsClassifier\n",
    "from sklearn.linear_model import LogisticRegression\n",
    "from sklearn.svm import SVC, LinearSVC\n",
    "from sklearn.tree import DecisionTreeClassifier\n",
    "from sklearn.ensemble import RandomForestClassifier\n",
    "from sklearn.ensemble import GradientBoostingClassifier\n",
    "from sklearn.neural_network import MLPClassifier\n",
    "\n",
    "estimators = [\n",
    "    ('KNC', KNeighborsClassifier()),\n",
    "    ('LRG', LogisticRegression()),\n",
    "    ('SVC', SVC()),\n",
    "    ('LSV', LinearSVC()),\n",
    "    ('DTC', DecisionTreeClassifier()),\n",
    "    ('RFC', RandomForestClassifier()),\n",
    "    ('GBC', GradientBoostingClassifier()),\n",
    "    ('MLP', MLPClassifier())\n",
    "]"
   ]
  },
  {
   "cell_type": "code",
   "execution_count": null,
   "metadata": {},
   "outputs": [],
   "source": [
    "from sklearn.preprocessing import StandardScaler\n",
    "from sklearn.preprocessing import MinMaxScaler\n",
    "\n",
    "scaler = StandardScaler()\n",
    "#scaler = MinMaxScaler()"
   ]
  },
  {
   "cell_type": "code",
   "execution_count": null,
   "metadata": {},
   "outputs": [],
   "source": [
    "from sklearn.decomposition import PCA\n",
    "from sklearn.feature_selection import RFE\n",
    "\n",
    "reductor = PCA(n_components=10)\n",
    "#reductor = RFE(estimator=RandomForestClassifier(n_estimators=100, random_state=0), n_features_to_select=k, step=.05)"
   ]
  },
  {
   "cell_type": "code",
   "execution_count": null,
   "metadata": {},
   "outputs": [],
   "source": [
    "grid_params = {}"
   ]
  },
  {
   "cell_type": "code",
   "execution_count": null,
   "metadata": {},
   "outputs": [],
   "source": [
    "from sklearn.metrics import accuracy_score\n",
    "from sklearn.metrics import confusion_matrix\n",
    "\n",
    "scores = {}\n",
    "for name, pipeline in create_pipelines(estimators, scaler, reductor).items():\n",
    "    #学習\n",
    "    est = grid_search(pipeline, get_params(pipeline, grid_params[name]))\n",
    "    est.fit(X_train, y_train)\n",
    "    #スコア（訓練）\n",
    "    train_pred = est.predict(X_train)\n",
    "    scores[(name, 'train')] = accuracy_score(y_train, train_pred)\n",
    "    #スコア（テスト）\n",
    "    test_pred = est.predict(X_test)\n",
    "    scores[(name, 'test')] = accuracy_score(y_test, test_pred)\n",
    "    #混合行列の作成\n",
    "    scores[(name, 'train_matrix')] = confusion_matrix(np.array(y_train), train_pred).reshape(1, 4)[0].tolist()\n",
    "    scores[(name, 'test_matrix')] = confusion_matrix(np.array(y_test), test_pred).reshape(1, 4)[0].tolist()\n",
    "\n",
    "#スコア表示\n"
   ]
  }
 ],
 "metadata": {
  "kernelspec": {
   "display_name": "Python 3",
   "language": "python",
   "name": "python3"
  },
  "language_info": {
   "codemirror_mode": {
    "name": "ipython",
    "version": 3
   },
   "file_extension": ".py",
   "mimetype": "text/x-python",
   "name": "python",
   "nbconvert_exporter": "python",
   "pygments_lexer": "ipython3",
   "version": "3.7.3"
  }
 },
 "nbformat": 4,
 "nbformat_minor": 2
}
